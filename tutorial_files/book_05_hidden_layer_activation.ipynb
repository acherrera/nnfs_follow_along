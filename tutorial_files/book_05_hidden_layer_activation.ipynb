{
 "cells": [
  {
   "cell_type": "markdown",
   "metadata": {},
   "source": [
    "\n",
    "Using Activation Functions in the network.\n",
    "* Step function - 0 or 1. Not granular enough\n",
    "* Sigmoud - Gradual change from 0 to 1 output. Has a problem that makes\n",
    "Rectified Linear looks better\n",
    "* Rectified Linear - output is X when X > 0, else 0. Fast (very simple), works\n",
    "well\n",
    "\n",
    "Why even use activation? ==> Linear activation functions results in the output\n",
    "being linear as well. We need some kind of nonlinear activation function. The\n",
    "type of non-linear activation function is less important apparently. \n",
    "\n"
   ]
  },
  {
   "cell_type": "code",
   "execution_count": 46,
   "metadata": {},
   "outputs": [],
   "source": [
    "import numpy as np\n",
    "import matplotlib.pyplot as plt\n",
    "import nnfs\n",
    "from nnfs.datasets import spiral_data\n",
    "nnfs.init()\n",
    "plt.style.use('dark_background')"
   ]
  },
  {
   "cell_type": "code",
   "execution_count": 47,
   "metadata": {},
   "outputs": [],
   "source": [
    "X = [[1, 2, 3, 2.5],\n",
    "     [2.0, 5.0, -1.0, 2.0],\n",
    "     [-1.5, 2.7, 3.3, -0.8]]\n",
    "\n",
    "X, y = spiral_data(100, 3)"
   ]
  },
  {
   "cell_type": "code",
   "execution_count": 44,
   "metadata": {},
   "outputs": [],
   "source": [
    "class Layer_Dense:\n",
    "    def __init__(self, n_inputs, n_nuerons):\n",
    "        \"\"\"\n",
    "        Sets the initial weights and the biases for the given layer. This is a dense layer because all of \n",
    "        the output values are passed to the input values of the next layer\n",
    "        n_input - expected number of inputs. Can be from inputs or previous layer\n",
    "        n_nuerons - number of nuerons to use in the layer\n",
    "        \"\"\"\n",
    "        self.weights = 0.10 * np.random.randn(n_inputs, n_nuerons)\n",
    "        self.biases = np.zeros((1, n_nuerons))\n",
    "\n",
    "\n",
    "    def forward(self, inputs):\n",
    "        self.output = np.dot(inputs, self.weights) + self.biases"
   ]
  },
  {
   "cell_type": "code",
   "execution_count": 50,
   "metadata": {},
   "outputs": [],
   "source": [
    "class Activation_RelU:\n",
    "    def __init__(self):\n",
    "        \"\"\"\n",
    "        Actives the nuerons\n",
    "        \"\"\"\n",
    "        pass\n",
    "    \n",
    "    def forward(self, inputs):\n",
    "        self.output = np.maximum(0, inputs)"
   ]
  },
  {
   "cell_type": "code",
   "execution_count": 55,
   "metadata": {},
   "outputs": [
    {
     "name": "stdout",
     "output_type": "stream",
     "text": [
      "[[0.         0.         0.         0.         0.        ]\n",
      " [0.00080872 0.         0.00066663 0.         0.00080433]\n",
      " [0.00190606 0.         0.00169781 0.         0.        ]\n",
      " ...\n",
      " [0.         0.07141541 0.         0.09633921 0.2921411 ]\n",
      " [0.         0.14170745 0.         0.12578925 0.23655823]\n",
      " [0.         0.05355264 0.         0.08881066 0.30603167]]\n"
     ]
    }
   ],
   "source": [
    "############### Now we put it work a bit ######################\n",
    "\n",
    "# Layer_Dense value 1 must be the number of inputs, second value can be anything\n",
    "layer1 = Layer_Dense(2, 5)\n",
    "activation1 = Activation_RelU()\n",
    "\n",
    "layer1.forward(X)\n",
    "activation1.forward(layer1.output)\n",
    "\n",
    "# print(layer1.output)\n",
    "print(activation1.output)"
   ]
  },
  {
   "cell_type": "code",
   "execution_count": 52,
   "metadata": {},
   "outputs": [
    {
     "data": {
      "image/png": "[encoded data removed]",
      "text/plain": [
       "<Figure size 432x288 with 1 Axes>"
      ]
     },
     "metadata": {},
     "output_type": "display_data"
    }
   ],
   "source": [
    "plt.hist(activation1.output)\n",
    "plt.show()"
   ]
  },
  {
   "cell_type": "code",
   "execution_count": 54,
   "metadata": {},
   "outputs": [
    {
     "data": {
      "image/png": "[encoded data removed]",
      "text/plain": [
       "<Figure size 432x288 with 1 Axes>"
      ]
     },
     "metadata": {},
     "output_type": "display_data"
    }
   ],
   "source": [
    "plt.hist(layer1.output)\n",
    "plt.show()"
   ]
  },
  {
   "cell_type": "code",
   "execution_count": null,
   "metadata": {},
   "outputs": [],
   "source": []
  }
 ],
 "metadata": {
  "kernelspec": {
   "display_name": "Python 3",
   "language": "python",
   "name": "python3"
  },
  "language_info": {
   "codemirror_mode": {
    "name": "ipython",
    "version": 3
   },
   "file_extension": ".py",
   "mimetype": "text/x-python",
   "name": "python",
   "nbconvert_exporter": "python",
   "pygments_lexer": "ipython3",
   "version": "3.8.6"
  }
 },
 "nbformat": 4,
 "nbformat_minor": 4
}
