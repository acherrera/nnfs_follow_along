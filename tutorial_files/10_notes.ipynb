{
 "cells": [
  {
   "cell_type": "markdown",
   "id": "phantom-indiana",
   "metadata": {},
   "source": [
    "# Chapter 10 - Optimizers\n",
    "\n",
    "Now we want to optimizer the neural network values using an optimization method. We'll be using the Stoichastic Gradient Descent (SGD) which is pretty common. Basically just minitmizing the loss functions using the derivatives that we have calculated previously."
   ]
  },
  {
   "cell_type": "code",
   "execution_count": null,
   "id": "former-engineer",
   "metadata": {},
   "outputs": [],
   "source": []
  }
 ],
 "metadata": {
  "kernelspec": {
   "display_name": "Python 3",
   "language": "python",
   "name": "python3"
  },
  "language_info": {
   "codemirror_mode": {
    "name": "ipython",
    "version": 3
   },
   "file_extension": ".py",
   "mimetype": "text/x-python",
   "name": "python",
   "nbconvert_exporter": "python",
   "pygments_lexer": "ipython3",
   "version": "3.8.7"
  }
 },
 "nbformat": 4,
 "nbformat_minor": 5
}
