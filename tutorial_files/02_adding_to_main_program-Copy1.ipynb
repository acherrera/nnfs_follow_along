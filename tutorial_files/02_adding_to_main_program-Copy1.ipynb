{
 "cells": [
  {
   "cell_type": "markdown",
   "metadata": {},
   "source": [
    "\n",
    "Using Activation Functions in the network.\n",
    "* Step function - 0 or 1. Not granular enough\n",
    "* Sigmoud - Gradual change from 0 to 1 output. Has a problem that makes\n",
    "Rectified Linear looks better\n",
    "* Rectified Linear - output is X when X > 0, else 0. Fast (very simple), works\n",
    "well\n",
    "\n",
    "Why even use activation? ==> Linear activation functions results in the output\n",
    "being linear as well. We need some kind of nonlinear activation function. The\n",
    "type of non-linear activation function is less important apparently. \n",
    "\n"
   ]
  },
  {
   "cell_type": "code",
   "execution_count": 4,
   "metadata": {},
   "outputs": [],
   "source": [
    "import numpy as np\n",
    "import matplotlib.pyplot as plt\n",
    "import nnfs\n",
    "from nnfs.datasets import spiral_data\n",
    "nnfs.init()\n",
    "plt.style.use('dark_background')"
   ]
  },
  {
   "cell_type": "code",
   "execution_count": 5,
   "metadata": {},
   "outputs": [],
   "source": [
    "class Layer_Dense:\n",
    "    def __init__(self, n_inputs, n_nuerons):\n",
    "        \"\"\"\n",
    "        Sets the initial weights and the biases for the given layer. This is a dense layer because all of \n",
    "        the output values are passed to the input values of the next layer\n",
    "        n_input - expected number of inputs. Can be from inputs or previous layer\n",
    "        n_nuerons - number of nuerons to use in the layer\n",
    "        \"\"\"\n",
    "        self.weights = 0.10 * np.random.randn(n_inputs, n_nuerons)\n",
    "        self.biases = np.zeros((1, n_nuerons))\n",
    "\n",
    "\n",
    "    def forward(self, inputs):\n",
    "        self.output = np.dot(inputs, self.weights) + self.biases"
   ]
  },
  {
   "cell_type": "code",
   "execution_count": 6,
   "metadata": {},
   "outputs": [],
   "source": [
    "class Activation_RelU:\n",
    "    def __init__(self):\n",
    "        \"\"\"\n",
    "        Activates the nuerons\n",
    "        \"\"\"\n",
    "        pass\n",
    "    \n",
    "    def forward(self, inputs):\n",
    "        self.output = np.maximum(0, inputs)"
   ]
  },
  {
   "cell_type": "code",
   "execution_count": 7,
   "metadata": {},
   "outputs": [],
   "source": [
    "class Activation_Softmax:\n",
    "    def __init__(self):\n",
    "        \"\"\"\n",
    "        Cleans up the output values so they are uniform without throwing out negative values.\n",
    "        \"\"\"\n",
    "        pass\n",
    "    \n",
    "    def forward(self, inputs):\n",
    "        exp_values = np.exp(inputs - np.max(inputs, axis=1, keepdims=True))\n",
    "        probabilities = exp_values / np.sum(exp_values, axis=1, keepdims=True)\n",
    "        self.output = probabilities"
   ]
  },
  {
   "cell_type": "code",
   "execution_count": 10,
   "metadata": {},
   "outputs": [],
   "source": [
    "########################### Now put it to work #############################\n",
    "\n",
    "X, y = spiral_data(samples=100, classes=3)"
   ]
  },
  {
   "cell_type": "code",
   "execution_count": 11,
   "metadata": {},
   "outputs": [
    {
     "name": "stdout",
     "output_type": "stream",
     "text": [
      "[[0.33333334 0.33333334 0.33333334]\n",
      " [0.33341435 0.33327007 0.33331558]\n",
      " [0.33349672 0.33320165 0.33330157]\n",
      " [0.33357966 0.33312857 0.3332918 ]\n",
      " [0.33361688 0.33311474 0.3332684 ]]\n"
     ]
    }
   ],
   "source": [
    "\n",
    "dense1 = Layer_Dense(2,3)\n",
    "activation1 = Activation_RelU()\n",
    "\n",
    "dense2 = Layer_Dense(3, 3)\n",
    "activation2 = Activation_Softmax()\n",
    "\n",
    "dense1.forward(X)\n",
    "activation1.forward(dense1.output)\n",
    "\n",
    "dense2.forward(activation1.output)\n",
    "activation2.forward(dense2.output)\n",
    "\n",
    "print(activation2.output[:5])"
   ]
  },
  {
   "cell_type": "code",
   "execution_count": null,
   "metadata": {},
   "outputs": [],
   "source": []
  }
 ],
 "metadata": {
  "kernelspec": {
   "display_name": "Python 3",
   "language": "python",
   "name": "python3"
  },
  "language_info": {
   "codemirror_mode": {
    "name": "ipython",
    "version": 3
   },
   "file_extension": ".py",
   "mimetype": "text/x-python",
   "name": "python",
   "nbconvert_exporter": "python",
   "pygments_lexer": "ipython3",
   "version": "3.8.6"
  }
 },
 "nbformat": 4,
 "nbformat_minor": 4
}
