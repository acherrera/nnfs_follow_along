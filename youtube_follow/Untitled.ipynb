{
 "cells": [
  {
   "cell_type": "markdown",
   "metadata": {},
   "source": [
    "\n",
    "Using Activation Functions in the network.\n",
    "* Step function - 0 or 1. Not granular enough\n",
    "* Sigmoud - Gradual change from 0 to 1 output. Has a problem that makes\n",
    "Rectified Linear looks better\n",
    "* Rectified Linear - output is X when X > 0, else 0. Fast (very simple), works\n",
    "well\n",
    "\n",
    "Why even use activation? ==> Linear activation functions results in the output\n",
    "being linear as well. We need some kind of nonlinear activation function. The\n",
    "type of non-linear activation function is less important apparently. \n",
    "\n"
   ]
  },
  {
   "cell_type": "code",
   "execution_count": 2,
   "metadata": {},
   "outputs": [],
   "source": [
    "import numpy as np\n",
    "np.random.seed(0)"
   ]
  },
  {
   "cell_type": "code",
   "execution_count": 4,
   "metadata": {},
   "outputs": [],
   "source": [
    "X = [[1, 2, 3, 2.5],\n",
    "     [2.0, 5.0, -1.0, 2.0],\n",
    "     [-1.5, 2.7, 3.3, -0.8]]"
   ]
  },
  {
   "cell_type": "code",
   "execution_count": 6,
   "metadata": {},
   "outputs": [],
   "source": [
    "class Layer_Dense:\n",
    "    def __init__(self, n_inputs, n_nuerons):\n",
    "        \"\"\"\n",
    "        Sets the initial weights and the biases for the given layer\n",
    "        n_input - expected number of inputs. Can be from inputs or previous layer\n",
    "        n_nuerons - number of nuerons to use in the layer\n",
    "        \"\"\"\n",
    "        self.weights = 0.10 * np.random.randn(n_inputs, n_nuerons)\n",
    "        self.biases = np.zeros((1, n_nuerons))\n",
    "\n",
    "\n",
    "    def forward(self, inputs):\n",
    "        self.output = np.dot(inputs, self.weights) + self.biases"
   ]
  },
  {
   "cell_type": "code",
   "execution_count": null,
   "metadata": {},
   "outputs": [],
   "source": [
    "############### Now we put it work a bit ######################\n",
    "\n",
    "# Layer_Dense value 1 must be the number of inputs, second value can be anything\n",
    "layer1 = Layer_Dense(4, 5)\n",
    "layer2 = Layer_Dense(5, 2)\n",
    "\n",
    "layer1.forward(X)\n",
    "layer2.forward(layer1.output)\n",
    "print(layer2.output)"
   ]
  }
 ],
 "metadata": {
  "kernelspec": {
   "display_name": "Python 3",
   "language": "python",
   "name": "python3"
  },
  "language_info": {
   "codemirror_mode": {
    "name": "ipython",
    "version": 3
   },
   "file_extension": ".py",
   "mimetype": "text/x-python",
   "name": "python",
   "nbconvert_exporter": "python",
   "pygments_lexer": "ipython3",
   "version": "3.8.6"
  }
 },
 "nbformat": 4,
 "nbformat_minor": 4
}
